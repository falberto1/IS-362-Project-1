{
 "cells": [
  {
   "cell_type": "markdown",
   "id": "d8faf48a",
   "metadata": {},
   "source": [
    "IS 362 – Project 1\n",
    "Assignment\n",
    "Create a .CSV file (or optionally, a MySQL database!) that includes all of the information below. You may change\n",
    "the structure of the information as you like. 2. Read the information from your .CSV file into pandas, and perform analysis to compare the arrival delays for the two airlines. 3. Your code should be in a Jupyter (IPython) notebook (in GitHub), and should include narrative descriptions of your analysis and conclusions."
   ]
  },
  {
   "cell_type": "markdown",
   "id": "60573b3f",
   "metadata": {},
   "source": [
    "The following is an analysis of the flight delays among Alaska airlines and AW West airlines for travel to Los Angelos, Pheonix, San Diego, San Francisco and Seattle."
   ]
  },
  {
   "cell_type": "code",
   "execution_count": null,
   "id": "a759f8f6",
   "metadata": {},
   "outputs": [],
   "source": [
    "import pandas as pd"
   ]
  },
  {
   "cell_type": "code",
   "execution_count": null,
   "id": "9caddb29",
   "metadata": {},
   "outputs": [],
   "source": [
    "#Read information from the csv file into pandas\n",
    "airline_data=pd.read_csv(\"/Users/Franklinalberto/Desktop/IS362 Date Acquisition/IS362 Project 1.csv\")\n",
    "\n"
   ]
  },
  {
   "cell_type": "code",
   "execution_count": null,
   "id": "56753a8b",
   "metadata": {},
   "outputs": [],
   "source": [
    "#Analysis of the first 5 rows to check the validity of the data.\n",
    "airline_data.head()\n"
   ]
  },
  {
   "cell_type": "markdown",
   "id": "e935eee6",
   "metadata": {},
   "source": [
    "\n",
    "\tCity\t        Alaska_On_Time\tAlaska_Delay\tAM WEST_On_Time\t AM WEST_Delay\n",
    "0\tLos Angelos\t         497\t      62\t           694\t           117\n",
    "1\tPheonix\t             221\t      12\t          4840\t           415\n",
    "2\tSan Diego\t         212\t      20\t           383\t            65\n",
    "3\tSan Francisco\t     503\t     102\t           320\t           129\n",
    "4\tSeattle\t            1841\t     305\t           201\t            61"
   ]
  },
  {
   "cell_type": "code",
   "execution_count": null,
   "id": "51496a34",
   "metadata": {},
   "outputs": [],
   "source": [
    "#I calculated the percent of Alaska Airlines flights that were delayed for each of the 5 destinations\n",
    "# The delayed flights divided by the total flights times 100 gives you the percent of total flights delayed.\n",
    "# The results of the calculation are set to a new column called \"Alaska_Percent_Delay\"\n",
    "\n",
    "airline_data['Total_Alaska_Flights'] = airline_data['Alaska_On_Time'] + airline_data['Alaska_Delay']\n",
    "\n",
    "airline_data['Alaska_Percent_Delay'] = (airline_data['Alaska_Delay'] / airline_data['Total_Alaska_Flights']) * 100\n",
    "\n",
    "airline_data['Alaska_Percent_Delay']"
   ]
  },
  {
   "cell_type": "markdown",
   "id": "9b500ae6",
   "metadata": {},
   "source": [
    "0    11.091234\n",
    "1     5.150215\n",
    "2     8.620690\n",
    "3    16.859504\n",
    "4    14.212488\n",
    "Name: Alaska_Percent_Delay, dtype: float64"
   ]
  },
  {
   "cell_type": "code",
   "execution_count": null,
   "id": "e8498109",
   "metadata": {},
   "outputs": [],
   "source": [
    "# The same  proces is followed for finding the  per cent of AM West flights delayed.\n",
    "# Set the results of the calculation to a new column called \"AM West_Percent_Delayed\"\n",
    "\n",
    "airline_data['Total_AMWest'] = airline_data['AM WEST_Delay'] + airline_data['AM WEST_On_Time']\n",
    "\n",
    "airline_data['AMWest_Percent_Delay'] = (airline_data['AM WEST_Delay'] / airline_data['Total_AMWest']) * 100\n",
    "\n",
    "airline_data['AMWest_Percent_Delay']"
   ]
  },
  {
   "cell_type": "markdown",
   "id": "f2fff263",
   "metadata": {},
   "source": [
    "0    14.426634\n",
    "1     7.897241\n",
    "2    14.508929\n",
    "3    28.730512\n",
    "4    23.282443\n",
    "Name: AMWest_Percent_Delay, dtype: float64\n"
   ]
  },
  {
   "cell_type": "code",
   "execution_count": null,
   "id": "fa3fa1da",
   "metadata": {},
   "outputs": [],
   "source": [
    "# I can visually compare the delays of the two airlines at each destination\n",
    "# It is clear that AM West airline has a greater percent of flights delayed at every destination.\n",
    "\n",
    "airline_data[['Alaska_Percent_Delay', 'AMWest_Percent_Delay']]"
   ]
  },
  {
   "cell_type": "markdown",
   "id": "aceca544",
   "metadata": {},
   "source": [
    "\tAlaska_Percent_Delay\t AMWest_Percent_Delay\n",
    "0\t11.091234\t             14.426634\n",
    "1\t5.150215\t              7.897241\n",
    "2\t8.620690\t             14.508929\n",
    "3\t16.859504\t             28.730512\n",
    "4\t14.212488\t             23.282443"
   ]
  },
  {
   "cell_type": "code",
   "execution_count": null,
   "id": "e4294319",
   "metadata": {},
   "outputs": [],
   "source": [
    "for index, row in airline_data.iterrows():\n",
    "    if row[\"Alaska_Percent_Delay\"] > row[\"AMWest_Percent_Delay\"]:\n",
    "        airline_data.loc[index, 'Most_Delayed_Airline'] = 'Alaska'\n",
    "    else:\n",
    "        airline_data.loc[index, 'Most_Delayed_Airline'] = 'AMWest'\n",
    "\n",
    "airline_data['Most_Delayed_Airline']"
   ]
  },
  {
   "cell_type": "markdown",
   "id": "1885922a",
   "metadata": {},
   "source": [
    "0    AMWest\n",
    "1    AMWest\n",
    "2    AMWest\n",
    "3    AMWest\n",
    "4    AMWest\n",
    "Name: Most_Delayed_Airline, dtype: object"
   ]
  },
  {
   "cell_type": "markdown",
   "id": "7a95ff24",
   "metadata": {},
   "source": [
    "airline_data"
   ]
  },
  {
   "cell_type": "markdown",
   "id": "b500301a",
   "metadata": {},
   "source": [
    "City\tAlaska_On_Time\tAlaska_Delay\tAM WEST_On_Time\tAM WEST_Delay\tTotal_Alaska_Flights\tAlaska_Percent_Delay\tTotal_AMWest\tAMWest_Percent_Delay\tMost_Delayed_Airline\n",
    "0\tLos Angelos\t497\t62\t694\t117\t559\t11.091234\t811\t14.426634\tAMWest\n",
    "1\tPheonix\t221\t12\t4840\t415\t233\t5.150215\t5255\t7.897241\tAMWest\n",
    "2\tSan Diego\t212\t20\t383\t65\t232\t8.620690\t448\t14.508929\tAMWest\n",
    "3\tSan Francisco\t503\t102\t320\t129\t605\t16.859504\t449\t28.730512\tAMWest\n",
    "4\tSeattle\t1841\t305\t201\t61\t2146\t14.212488\t262\t23.282443\tAMWest"
   ]
  },
  {
   "cell_type": "code",
   "execution_count": null,
   "id": "9b21775c",
   "metadata": {},
   "outputs": [],
   "source": []
  }
 ],
 "metadata": {
  "kernelspec": {
   "display_name": "Python 3 (ipykernel)",
   "language": "python",
   "name": "python3"
  },
  "language_info": {
   "codemirror_mode": {
    "name": "ipython",
    "version": 3
   },
   "file_extension": ".py",
   "mimetype": "text/x-python",
   "name": "python",
   "nbconvert_exporter": "python",
   "pygments_lexer": "ipython3",
   "version": "3.9.7"
  }
 },
 "nbformat": 4,
 "nbformat_minor": 5
}
